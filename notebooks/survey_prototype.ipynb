{
 "cells": [
  {
   "cell_type": "code",
   "execution_count": 5,
   "metadata": {},
   "outputs": [],
   "source": [
    "import numpy as np\n",
    "from IPython.display import display\n",
    "from ipywidgets import interact, interactive, fixed, interact_manual\n",
    "import ipywidgets as widgets"
   ]
  },
  {
   "cell_type": "markdown",
   "metadata": {},
   "source": [
    "I am trying to put together a survey question that will only allow people to give answers that lie within my constraints. I think I basically need the limits on each variable to be determined by the constraints as in the examples here:\n",
    "\n",
    "https://ipywidgets.readthedocs.io/en/latest/examples/Using%20Interact.html\n",
    "https://ipywidgets.readthedocs.io/en/latest/examples/Widget%20Events.html"
   ]
  },
  {
   "cell_type": "code",
   "execution_count": 18,
   "metadata": {},
   "outputs": [],
   "source": [
    "names_to_inds = {\"quiet\":0, \"med\":1, \"informal\":2, \"formal\":3}\n",
    "\n",
    "\n",
    "space_reqs = [2, 1, 4, 6]\n",
    "costs = [6, 3, 4, 8]\n",
    "capacities = [1, 1, 4, 2]\n",
    "\n",
    "\n",
    "def f(**kwargs):\n",
    "    layout_vec = np.empty((4,))\n",
    "    for k, v in kwargs.items():\n",
    "        layout_vec[names_to_inds[k]] = v\n",
    "    display((sum(space_reqs*layout_vec), sum(costs*layout_vec), sum(capacities*layout_vec)))\n",
    "    return sum(layout_vec)\n",
    "w = interactive(f, quiet=0, med=1, informal=2, formal=3)"
   ]
  },
  {
   "cell_type": "code",
   "execution_count": 19,
   "metadata": {},
   "outputs": [
    {
     "data": {
      "application/vnd.jupyter.widget-view+json": {
       "model_id": "adfac488415a4c8c8880b01b8481897d",
       "version_major": 2,
       "version_minor": 0
      },
      "text/plain": [
       "interactive(children=(IntSlider(value=0, description='quiet', max=1), IntSlider(value=1, description='med', ma…"
      ]
     },
     "metadata": {},
     "output_type": "display_data"
    }
   ],
   "source": [
    "display(w)"
   ]
  }
 ],
 "metadata": {
  "kernelspec": {
   "display_name": "Python 3",
   "language": "python",
   "name": "python3"
  },
  "language_info": {
   "codemirror_mode": {
    "name": "ipython",
    "version": 3
   },
   "file_extension": ".py",
   "mimetype": "text/x-python",
   "name": "python",
   "nbconvert_exporter": "python",
   "pygments_lexer": "ipython3",
   "version": "3.7.4"
  }
 },
 "nbformat": 4,
 "nbformat_minor": 2
}
